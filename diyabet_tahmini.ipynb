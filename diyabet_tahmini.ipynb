! pip install pyspark
from pyspark.sql import SparkSession
 
spark = SparkSession.builder.appName(spark).getOrCreate()
 
! git clone httpsgithub.combiostatisticsphddiabetes_dataset
 
! ls diabetes_dataset
 
df=spark.read.csv('contentdiabetes_datasetdiabetes.csv',header=True,inferSchema=True)
 
df.show()
df.printSchema()
print((df.count(), len(df.columns)))
df.groupby('Outcome').count().show()
df.describe().show()
for col in df.columns
print(col+,df[df[col].isNull()].count())

def count_zeros()
  columns_list =['Glucose','BloodPressure','SkinThickness','Insulin','BMI']
  for i in columns_list
    print(i+,df[df[i]==0].count())
 
count_zeros()

from pyspark.sql.functions import 

for i in df.columns[16]
   data = df.agg({i'mean'}).first()[0]
   print(Mean value for {} is {}.format(i,int(data)))
   df = df.withColumn(i,when(df[i]==0,int(data)).otherwise(df[i]))
 
   df.describe().show()
 
   df.show()
 
   for col in df.columns
   print(correlation to outcome for {} is {}.format(col,df.stat.corr('Outcome',col)))

from pyspark.ml.feature import VectorAssembler
	assembler =VectorAssembler(inputCols=['Pregnancies','Glucose',
			'BloodPressure','SkinThickness',
			'Insulin','BMI','DiabetesPedigreeFunction',
			'Age'],outputCol=' features')

output_data = assembler.transform(df)
 
output_data.printSchema()
 
output_data.show()
 
from pyspark.ml.classification import LogisticRegression
final_data = output_data.select('features','Outcome')
 
final_data.printSchema()
 
train , test = final_data.randomSplit([0.7,0.3], seed=2021)
models = LogisticRegression(labelCol='Outcome')
model = models.fit(train)
 
summary = model.summary
 
summary.predictions.describe().show()
 
from pyspark.ml.evaluation import BinaryClassificationEvaluator
predictions = model.evaluate(test)

predictions.predictions.show(20)
 
evaluator = BinaryClassificationEvaluator(rawPredictionCol='rawPrediction', labelCol='Outcome')
evaluator.evaluate(model.transform(test))
 
print(Test Error = %g % (1.0 - evaluator.evaluate(model.transform(test))))
 
type(predictions.predictions)
 
from sklearn.metrics import classification_report, confusion_matrix
 
y_true = predictions.predictions.select(['Outcome']).collect()
y_pred = predictions.predictions.select(['prediction']).collect()
 
print(classification_report(y_true, y_pred))
print(confusion_matrix(y_true,y_pred))
 
model.save(model)
 
from pyspark.ml.classification import LogisticRegressionModel
 
model = LogisticRegressionModel.load('model')

